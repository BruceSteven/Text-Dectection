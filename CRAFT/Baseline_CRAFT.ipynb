{
  "nbformat": 4,
  "nbformat_minor": 0,
  "metadata": {
    "colab": {
      "name": "Baseline_CRAFT.ipynb",
      "provenance": [],
      "collapsed_sections": [],
      "include_colab_link": true
    },
    "kernelspec": {
      "name": "python3",
      "display_name": "Python 3"
    },
    "language_info": {
      "name": "python"
    }
  },
  "cells": [
    {
      "cell_type": "markdown",
      "metadata": {
        "id": "view-in-github",
        "colab_type": "text"
      },
      "source": [
        "<a href=\"https://colab.research.google.com/github/BruceSteven/Text-Dectection-/blob/main/Baseline_CRAFT.ipynb\" target=\"_parent\"><img src=\"https://colab.research.google.com/assets/colab-badge.svg\" alt=\"Open In Colab\"/></a>"
      ]
    },
    {
      "cell_type": "markdown",
      "metadata": {
        "id": "q_n3A_zIs8Z_"
      },
      "source": [
        "## Setup Môi Trường\n",
        "\n"
      ]
    },
    {
      "cell_type": "code",
      "metadata": {
        "id": "K2iV9sqQl7Tg"
      },
      "source": [
        "#kiem tra gpu\n",
        "!nvidia-smi"
      ],
      "execution_count": null,
      "outputs": []
    },
    {
      "cell_type": "code",
      "metadata": {
        "id": "8KHlMcDHl_Ms"
      },
      "source": [
        "#mounting drive\n",
        "from google.colab import drive\n",
        "drive.mount('/content/drive')"
      ],
      "execution_count": null,
      "outputs": []
    },
    {
      "cell_type": "markdown",
      "metadata": {
        "id": "ZVL2qZ-5mNhx"
      },
      "source": [
        "##Clone source code từ github và set-up các tài nguyên cần thiết"
      ]
    },
    {
      "cell_type": "code",
      "metadata": {
        "id": "meae2ZsI2QGL"
      },
      "source": [
        "%cd /content/drive/MyDrive"
      ],
      "execution_count": null,
      "outputs": []
    },
    {
      "cell_type": "code",
      "metadata": {
        "id": "obZXSED3j-8u"
      },
      "source": [
        "!git clone https://github.com/CS-UIT-AI-CLUB/CRAFT"
      ],
      "execution_count": null,
      "outputs": []
    },
    {
      "cell_type": "code",
      "metadata": {
        "id": "LV9flhfWlFxy"
      },
      "source": [
        "%cd CRAFT"
      ],
      "execution_count": null,
      "outputs": []
    },
    {
      "cell_type": "code",
      "metadata": {
        "id": "7unYwZR52bn5"
      },
      "source": [
        "# install các package cần thiết\n",
        "!pip install pillow==6.2.2"
      ],
      "execution_count": null,
      "outputs": []
    },
    {
      "cell_type": "code",
      "metadata": {
        "id": "-IXCjRmw1v7e"
      },
      "source": [
        "!pip install -r requirements.txt -f https://download.pytorch.org/whl/torch_stable.html"
      ],
      "execution_count": null,
      "outputs": []
    },
    {
      "cell_type": "code",
      "metadata": {
        "id": "kNjYbhEnvxB2"
      },
      "source": [
        "!pip install water "
      ],
      "execution_count": null,
      "outputs": []
    },
    {
      "cell_type": "code",
      "metadata": {
        "id": "MgucJCnOLPeE"
      },
      "source": [
        "#cac thu muc de chua file test\n",
        "!mkdir result\n",
        "!mkdir results\n",
        "!mkdir tested_image"
      ],
      "execution_count": null,
      "outputs": []
    },
    {
      "cell_type": "code",
      "metadata": {
        "id": "H4kuUiyPLawt"
      },
      "source": [
        "%cd /content/drive/MyDrive/CRAFT/pretrain\n",
        "#tai cac file can thiet cho training\n",
        "!gdown --id 1-RM4shR-oj0cWO-9mthKZKnyF-qy1OZW -O 91.pth\n",
        "!gdown --id 1wQDetvezJGp6eBVK7_yInOzZdpoD3k7j -O vgg16_bn-6c64b313.pth"
      ],
      "execution_count": null,
      "outputs": []
    },
    {
      "cell_type": "markdown",
      "metadata": {
        "id": "ihmee1m1ml42"
      },
      "source": [
        "##Tải dữ liệu"
      ]
    },
    {
      "cell_type": "code",
      "metadata": {
        "id": "Gsh7KEFtmowv"
      },
      "source": [
        "%cd /content/drive/MyDrive\n",
        "!gdown --id 13_4EqHuOV2T2Sq_oCKFYJMqLgSCoBjHM -O train.zip\n",
        "!unzip train.zip "
      ],
      "execution_count": null,
      "outputs": []
    },
    {
      "cell_type": "code",
      "metadata": {
        "id": "bwgw7jUi5UPu"
      },
      "source": [
        "#rename thư mục theo định dạng đúng\n",
        "import os\n",
        "os.rename('./train/images','./train/ch4_training_images')\n",
        "os.rename('./train/labels','./train/ch4_training_localization_transcription_gt')"
      ],
      "execution_count": null,
      "outputs": []
    },
    {
      "cell_type": "code",
      "metadata": {
        "id": "x-4pNpXGwnM1"
      },
      "source": [
        "#thay doi dinh dang data\n",
        "%cd /content/drive/MyDrive/train/ch4_training_localization_transcription_gt\n",
        "directory = os.listdir('/content/drive/MyDrive/train/ch4_training_localization_transcription_gt')\n",
        "\n",
        "for file in directory:\n",
        "\tname, ext = os.path.splitext(file)\n",
        "\tos.rename(file, 'gt_' + name + ext)"
      ],
      "execution_count": null,
      "outputs": []
    },
    {
      "cell_type": "markdown",
      "metadata": {
        "id": "UKphmIWn1uO0"
      },
      "source": [
        "## Bắt đầu train"
      ]
    },
    {
      "cell_type": "code",
      "metadata": {
        "id": "3sQDcVDn2wje"
      },
      "source": [
        "%cd /content/drive/MyDrive/CRAFT"
      ],
      "execution_count": null,
      "outputs": []
    },
    {
      "cell_type": "code",
      "metadata": {
        "id": "0vdfBX6cmLOq"
      },
      "source": [
        "!python trainic15data.py"
      ],
      "execution_count": null,
      "outputs": []
    },
    {
      "cell_type": "markdown",
      "metadata": {
        "id": "WbpOQN5ZMnlk"
      },
      "source": [
        "##Test"
      ]
    },
    {
      "cell_type": "code",
      "metadata": {
        "id": "4lHHocxQ1u1B"
      },
      "source": [
        "%cd /content/drive/MyDrive"
      ],
      "execution_count": null,
      "outputs": []
    },
    {
      "cell_type": "code",
      "metadata": {
        "id": "RxnqDbnE1yLU"
      },
      "source": [
        "#tai test data\n",
        "!gdown --id 14Wf3YMoXT9LcOQWaJbRd3Or2pXMUHO3C -O test.zip\n",
        "!unzip test.zip"
      ],
      "execution_count": null,
      "outputs": []
    },
    {
      "cell_type": "code",
      "metadata": {
        "id": "6pxkb6J18azE"
      },
      "source": [
        "%cd /content/drive/MyDrive/CRAFT/results"
      ],
      "execution_count": null,
      "outputs": []
    },
    {
      "cell_type": "code",
      "metadata": {
        "id": "AfN23e2s8g2E"
      },
      "source": [
        "!gdown --id 1-RM4shR-oj0cWO-9mthKZKnyF-qy1OZW"
      ],
      "execution_count": null,
      "outputs": []
    },
    {
      "cell_type": "code",
      "metadata": {
        "id": "gJlV--Z6N6B_"
      },
      "source": [
        "%cd /content/drive/MyDrive/CRAFT"
      ],
      "execution_count": null,
      "outputs": []
    },
    {
      "cell_type": "code",
      "metadata": {
        "id": "xz_fxr93Mo1c"
      },
      "source": [
        "!python test.py"
      ],
      "execution_count": null,
      "outputs": []
    },
    {
      "cell_type": "code",
      "metadata": {
        "id": "Kf_5IPqe8Ckc"
      },
      "source": [
        "#chuyen dinh dang file test \n",
        "import os\n",
        "%cd /content/drive/MyDrive/CRAFT/tested_image\n",
        "directory = os.listdir('/content/drive/MyDrive/CRAFT/tested_image')\n",
        "count = 0\n",
        "text_file = open(\"aaaa.txt\",\"a\")\n",
        "for file in directory:\n",
        "\tif file.endswith(\".txt\"):\n",
        "\t\tcount = count + 1\n",
        "\t\twith open(file) as f:\n",
        "\t\t\tcontent = f.readlines()\n",
        "\t# you may also want to remove whitespace characters like `\\n` at the end of each line\n",
        "\t\tcontent = [x.strip() for x in content] \n",
        "\t\tfor i in range(len(content)) :\n",
        "\t\t\ttext_file.write(\"{0},{1}\\n\".format(file,content[i]))\n",
        "   \n",
        "print(count)"
      ],
      "execution_count": null,
      "outputs": []
    },
    {
      "cell_type": "code",
      "metadata": {
        "id": "SjqX7Y0xy7jY"
      },
      "source": [
        "%cd /content/drive/MyDrive/CRAFT/result\n",
        "with open('/content/drive/MyDrive/CRAFT/tested_image/aaaa.txt') as f:\n",
        "  contents = f.readlines()\n",
        "# you may also want to remove whitespace characters like `\\n` at the end of each line\n",
        "contents = [x.strip() for x in contents] \n",
        "\n",
        "for i in range(len(contents)):\n",
        "  line = contents[i].split(',')\n",
        "  file_name = line[0]\n",
        "  line[0] = file_name[4:-4] + \".jpg\"\n",
        "  text_file = open('test.txt', \"a\")\n",
        "  text_file.write(\"{0},{1},{2},{3},{4},{5},{6},{7},{8}\\n\".format(line[0],line[1],line[2],line[3],line[4],line[5],line[6],line[7],line[8]))"
      ],
      "execution_count": null,
      "outputs": []
    },
    {
      "cell_type": "markdown",
      "metadata": {
        "id": "SVl5TB1UWSQR"
      },
      "source": [
        "##Submission"
      ]
    },
    {
      "cell_type": "code",
      "metadata": {
        "id": "eSavbLsVWR7k"
      },
      "source": [
        "import math, requests\n",
        "\n",
        "def submit_prediction(df, comment='', **kwargs):\n",
        "    TOKEN='f9f0fe020c715fcc74d65e919507405f1ff39dddfd93556c23513e77abb5b6dbe478fc7a6d00f2fc78f1b138fd0f9338b4e485db6e7406c02954bc92e2c7b0a2'\n",
        "    URL='http://submission.mmlab.uit.edu.vn/api/submissions'\n",
        "    r = requests.post(URL, headers={'Authorization': 'Bearer {}'.format(TOKEN)},files={'datafile': open(df, 'rb')},data={'comment':comment})\n",
        "    if r.status_code == 429:\n",
        "        raise Exception('Submissions are too close. Next submission is only allowed in {} seconds.'.format(int(math.ceil(int(r.headers['x-rate-limit-remaining']) / 1000.0))))\n",
        "    if r.status_code != 200:\n",
        "        raise Exception(r.text)\n",
        "        \n",
        "submit_prediction('/content/drive/MyDrive/CRAFT/result/test.txt', comment='my submission')"
      ],
      "execution_count": null,
      "outputs": []
    },
    {
      "cell_type": "code",
      "metadata": {
        "id": "CM8mIlaiIKW0"
      },
      "source": [
        ""
      ],
      "execution_count": null,
      "outputs": []
    }
  ]
}
